{
 "cells": [
  {
   "cell_type": "markdown",
   "metadata": {
    "colab_type": "text",
    "id": "kUqWi0-WQVYx"
   },
   "source": [
    "# NLP - Stance Detection for the Fake News Challenge"
   ]
  },
  {
   "cell_type": "markdown",
   "metadata": {
    "colab_type": "text",
    "id": "QI9jhXKPCFcJ"
   },
   "source": [
    "### Stance Detection for the Fake News Challenge for identifying textual relationships using LSTM Sequence to Sequence Encoder-Decoder model approach with attention layer\n"
   ]
  },
  {
   "cell_type": "markdown",
   "metadata": {},
   "source": [
    "### Context\n",
    "\n",
    "Fake News can be detected by applying stance classification, i.e. by classifying the stance of the body text relative to the claim made in the headline into one of the four categories \n",
    "1. Agrees: body text agrees with the headline \n",
    "2. Disagrees: body text disagrees with the headline \n",
    "3. Discusses: body text discusses the same topic as the headline, but does not take position \n",
    "4. Unrelated: body text discusses a different topic than the headline "
   ]
  },
  {
   "cell_type": "markdown",
   "metadata": {},
   "source": [
    "### Solution Approach\n",
    "\n",
    "1. Use Glove embeddings and natural language toolkit 'punkt' \n",
    "2. Tokenizing the body text and headings through appropriate data structure hierarchy \n",
    "3. Pre-processing - One-Hot encoding, shuffle the data and split into train, test and validation sets \n",
    "4. Apply pre-trained Glove word embeddings for each token and Create embedding matrix \n",
    "5. Reshaping train datasets for compatibility with the Models\n",
    "6. Define Sequence to Sequence Encoder Decoder LSTM Model\n",
    "7. Compile, fit and note accuracy \n",
    "8. Build the same model with attention layers included for better performance\n",
    "9. Compile, fit and note accuracy for attention model \n",
    "10. Compare Sequence to Sequence Encoder-Decoder LSTM model - with and without Attention layers\n"
   ]
  },
  {
   "cell_type": "markdown",
   "metadata": {
    "colab_type": "text",
    "id": "vSNgdEMpenpE"
   },
   "source": [
    "## Load datasets and dependencies  \n",
    "\n"
   ]
  },
  {
   "cell_type": "markdown",
   "metadata": {
    "colab_type": "text",
    "id": "aPOZRohMiSpQ"
   },
   "source": [
    "### Mount the google drive to access required project files\n",
    "\n",
    "Run the below commands"
   ]
  },
  {
   "cell_type": "code",
   "execution_count": 1,
   "metadata": {
    "colab": {
     "base_uri": "https://localhost:8080/",
     "height": 125
    },
    "colab_type": "code",
    "id": "MjhKT3cLt20O",
    "outputId": "5298f0d1-96bf-4950-8a53-9e469be99980"
   },
   "outputs": [
    {
     "name": "stdout",
     "output_type": "stream",
     "text": [
      "Go to this URL in a browser: https://accounts.google.com/o/oauth2/auth?client_id=947318989803-6bn6qk8qdgf4n4g3pfee6491hc0brc4i.apps.googleusercontent.com&redirect_uri=urn%3aietf%3awg%3aoauth%3a2.0%3aoob&response_type=code&scope=email%20https%3a%2f%2fwww.googleapis.com%2fauth%2fdocs.test%20https%3a%2f%2fwww.googleapis.com%2fauth%2fdrive%20https%3a%2f%2fwww.googleapis.com%2fauth%2fdrive.photos.readonly%20https%3a%2f%2fwww.googleapis.com%2fauth%2fpeopleapi.readonly\n",
      "\n",
      "Enter your authorization code:\n",
      "··········\n",
      "Mounted at /content/drive\n"
     ]
    }
   ],
   "source": [
    "from google.colab import drive\n",
    "drive.mount('/content/drive')"
   ]
  },
  {
   "cell_type": "markdown",
   "metadata": {
    "colab_type": "text",
    "id": "bhZdJ4zpwWzN"
   },
   "source": [
    "#### Path for Project files on google drive\n"
   ]
  },
  {
   "cell_type": "code",
   "execution_count": 0,
   "metadata": {
    "colab": {},
    "colab_type": "code",
    "id": "Aol97RUogFuS"
   },
   "outputs": [],
   "source": [
    "project_path = \"/content/drive/My Drive/Fake News Challenge/\""
   ]
  },
  {
   "cell_type": "markdown",
   "metadata": {
    "colab_type": "text",
    "id": "2ly0VxAnwJ2f"
   },
   "source": [
    "### Loading the Glove Embeddings"
   ]
  },
  {
   "cell_type": "code",
   "execution_count": 0,
   "metadata": {
    "colab": {},
    "colab_type": "code",
    "id": "xmsPn6PF-cgL"
   },
   "outputs": [],
   "source": [
    "from zipfile import ZipFile\n",
    "with ZipFile(project_path+'glove.6B.zip', 'r') as z:\n",
    "  z.extractall()"
   ]
  },
  {
   "cell_type": "markdown",
   "metadata": {
    "colab_type": "text",
    "id": "qHEfj1xHRcE8"
   },
   "source": [
    "## Import Necessary Libraries"
   ]
  },
  {
   "cell_type": "code",
   "execution_count": 4,
   "metadata": {
    "colab": {
     "base_uri": "https://localhost:8080/",
     "height": 116
    },
    "colab_type": "code",
    "id": "ztBFAoxORdQQ",
    "outputId": "1a48c540-0990-4c59-af47-c9fc26cd8467"
   },
   "outputs": [
    {
     "name": "stdout",
     "output_type": "stream",
     "text": [
      "[nltk_data] Downloading package punkt to /root/nltk_data...\n",
      "[nltk_data]   Unzipping tokenizers/punkt.zip.\n"
     ]
    },
    {
     "name": "stderr",
     "output_type": "stream",
     "text": [
      "Using TensorFlow backend.\n"
     ]
    },
    {
     "data": {
      "text/html": [
       "<p style=\"color: red;\">\n",
       "The default version of TensorFlow in Colab will soon switch to TensorFlow 2.x.<br>\n",
       "We recommend you <a href=\"https://www.tensorflow.org/guide/migrate\" target=\"_blank\">upgrade</a> now \n",
       "or ensure your notebook will continue to use TensorFlow 1.x via the <code>%tensorflow_version 1.x</code> magic:\n",
       "<a href=\"https://colab.research.google.com/notebooks/tensorflow_version.ipynb\" target=\"_blank\">more info</a>.</p>\n"
      ],
      "text/plain": [
       "<IPython.core.display.HTML object>"
      ]
     },
     "metadata": {
      "tags": []
     },
     "output_type": "display_data"
    }
   ],
   "source": [
    "import pandas as pd\n",
    "import numpy as np\n",
    "import random\n",
    "import nltk\n",
    "nltk.download('punkt')\n",
    "from nltk.tokenize import sent_tokenize\n",
    "\n",
    "from sklearn.model_selection import train_test_split\n",
    "\n",
    "import keras\n",
    "from keras.preprocessing.text import Tokenizer\n",
    "from keras.preprocessing.text import text_to_word_sequence\n",
    "\n",
    "from keras.models import Model\n",
    "from keras.layers import Input, LSTM, Dense, Embedding, TimeDistributed, Activation, Dot, Reshape, Flatten \n",
    "from keras.utils.vis_utils import plot_model"
   ]
  },
  {
   "cell_type": "markdown",
   "metadata": {
    "colab_type": "text",
    "id": "TjLJEQ_PwcGi"
   },
   "source": [
    "### Load the dataset \n",
    "\n",
    "1. Using [read_csv()](https://pandas.pydata.org/pandas-docs/stable/generated/pandas.read_csv.html) in pandas load the given train datasets files **`train_bodies.csv`** and **`train_stances.csv`**\n",
    "\n",
    "2. Using [merge](https://pandas.pydata.org/pandas-docs/stable/generated/pandas.DataFrame.merge.html) command in pandas merge the two datasets based on the Body ID. \n",
    "\n",
    "Note: Save the final merged dataset in a dataframe with name **`dataset`**."
   ]
  },
  {
   "cell_type": "code",
   "execution_count": 5,
   "metadata": {
    "colab": {
     "base_uri": "https://localhost:8080/",
     "height": 195
    },
    "colab_type": "code",
    "id": "klF0nNNRx-DU",
    "outputId": "456f0981-8ebf-49e9-9997-87aaa44ee60b"
   },
   "outputs": [
    {
     "data": {
      "text/html": [
       "<div>\n",
       "<style scoped>\n",
       "    .dataframe tbody tr th:only-of-type {\n",
       "        vertical-align: middle;\n",
       "    }\n",
       "\n",
       "    .dataframe tbody tr th {\n",
       "        vertical-align: top;\n",
       "    }\n",
       "\n",
       "    .dataframe thead th {\n",
       "        text-align: right;\n",
       "    }\n",
       "</style>\n",
       "<table border=\"1\" class=\"dataframe\">\n",
       "  <thead>\n",
       "    <tr style=\"text-align: right;\">\n",
       "      <th></th>\n",
       "      <th>Body ID</th>\n",
       "      <th>articleBody</th>\n",
       "    </tr>\n",
       "  </thead>\n",
       "  <tbody>\n",
       "    <tr>\n",
       "      <th>0</th>\n",
       "      <td>0</td>\n",
       "      <td>A small meteorite crashed into a wooded area i...</td>\n",
       "    </tr>\n",
       "    <tr>\n",
       "      <th>1</th>\n",
       "      <td>4</td>\n",
       "      <td>Last week we hinted at what was to come as Ebo...</td>\n",
       "    </tr>\n",
       "    <tr>\n",
       "      <th>2</th>\n",
       "      <td>5</td>\n",
       "      <td>(NEWSER) – Wonder how long a Quarter Pounder w...</td>\n",
       "    </tr>\n",
       "    <tr>\n",
       "      <th>3</th>\n",
       "      <td>6</td>\n",
       "      <td>Posting photos of a gun-toting child online, I...</td>\n",
       "    </tr>\n",
       "    <tr>\n",
       "      <th>4</th>\n",
       "      <td>7</td>\n",
       "      <td>At least 25 suspected Boko Haram insurgents we...</td>\n",
       "    </tr>\n",
       "  </tbody>\n",
       "</table>\n",
       "</div>"
      ],
      "text/plain": [
       "   Body ID                                        articleBody\n",
       "0        0  A small meteorite crashed into a wooded area i...\n",
       "1        4  Last week we hinted at what was to come as Ebo...\n",
       "2        5  (NEWSER) – Wonder how long a Quarter Pounder w...\n",
       "3        6  Posting photos of a gun-toting child online, I...\n",
       "4        7  At least 25 suspected Boko Haram insurgents we..."
      ]
     },
     "execution_count": 5,
     "metadata": {
      "tags": []
     },
     "output_type": "execute_result"
    }
   ],
   "source": [
    "train_bodies = pd.read_csv(project_path+'train_bodies.csv')\n",
    "train_bodies.head()"
   ]
  },
  {
   "cell_type": "code",
   "execution_count": 6,
   "metadata": {
    "colab": {
     "base_uri": "https://localhost:8080/",
     "height": 195
    },
    "colab_type": "code",
    "id": "voeXInS_xv3-",
    "outputId": "16ec2822-d3b1-4b7d-bf5e-722515ba2840"
   },
   "outputs": [
    {
     "data": {
      "text/html": [
       "<div>\n",
       "<style scoped>\n",
       "    .dataframe tbody tr th:only-of-type {\n",
       "        vertical-align: middle;\n",
       "    }\n",
       "\n",
       "    .dataframe tbody tr th {\n",
       "        vertical-align: top;\n",
       "    }\n",
       "\n",
       "    .dataframe thead th {\n",
       "        text-align: right;\n",
       "    }\n",
       "</style>\n",
       "<table border=\"1\" class=\"dataframe\">\n",
       "  <thead>\n",
       "    <tr style=\"text-align: right;\">\n",
       "      <th></th>\n",
       "      <th>Headline</th>\n",
       "      <th>Body ID</th>\n",
       "      <th>Stance</th>\n",
       "    </tr>\n",
       "  </thead>\n",
       "  <tbody>\n",
       "    <tr>\n",
       "      <th>0</th>\n",
       "      <td>Police find mass graves with at least '15 bodi...</td>\n",
       "      <td>712</td>\n",
       "      <td>unrelated</td>\n",
       "    </tr>\n",
       "    <tr>\n",
       "      <th>1</th>\n",
       "      <td>Hundreds of Palestinians flee floods in Gaza a...</td>\n",
       "      <td>158</td>\n",
       "      <td>agree</td>\n",
       "    </tr>\n",
       "    <tr>\n",
       "      <th>2</th>\n",
       "      <td>Christian Bale passes on role of Steve Jobs, a...</td>\n",
       "      <td>137</td>\n",
       "      <td>unrelated</td>\n",
       "    </tr>\n",
       "    <tr>\n",
       "      <th>3</th>\n",
       "      <td>HBO and Apple in Talks for $15/Month Apple TV ...</td>\n",
       "      <td>1034</td>\n",
       "      <td>unrelated</td>\n",
       "    </tr>\n",
       "    <tr>\n",
       "      <th>4</th>\n",
       "      <td>Spider burrowed through tourist's stomach and ...</td>\n",
       "      <td>1923</td>\n",
       "      <td>disagree</td>\n",
       "    </tr>\n",
       "  </tbody>\n",
       "</table>\n",
       "</div>"
      ],
      "text/plain": [
       "                                            Headline  Body ID     Stance\n",
       "0  Police find mass graves with at least '15 bodi...      712  unrelated\n",
       "1  Hundreds of Palestinians flee floods in Gaza a...      158      agree\n",
       "2  Christian Bale passes on role of Steve Jobs, a...      137  unrelated\n",
       "3  HBO and Apple in Talks for $15/Month Apple TV ...     1034  unrelated\n",
       "4  Spider burrowed through tourist's stomach and ...     1923   disagree"
      ]
     },
     "execution_count": 6,
     "metadata": {
      "tags": []
     },
     "output_type": "execute_result"
    }
   ],
   "source": [
    "train_stances = pd.read_csv(project_path+'train_stances.csv')\n",
    "train_stances.head()"
   ]
  },
  {
   "cell_type": "code",
   "execution_count": 7,
   "metadata": {
    "colab": {
     "base_uri": "https://localhost:8080/",
     "height": 402
    },
    "colab_type": "code",
    "id": "kosAWskdOOT8",
    "outputId": "62d2dc0e-591e-447f-8f3e-d4a4d3351d7a"
   },
   "outputs": [
    {
     "data": {
      "text/html": [
       "<div>\n",
       "<style scoped>\n",
       "    .dataframe tbody tr th:only-of-type {\n",
       "        vertical-align: middle;\n",
       "    }\n",
       "\n",
       "    .dataframe tbody tr th {\n",
       "        vertical-align: top;\n",
       "    }\n",
       "\n",
       "    .dataframe thead th {\n",
       "        text-align: right;\n",
       "    }\n",
       "</style>\n",
       "<table border=\"1\" class=\"dataframe\">\n",
       "  <thead>\n",
       "    <tr style=\"text-align: right;\">\n",
       "      <th></th>\n",
       "      <th>Body ID</th>\n",
       "      <th>articleBody</th>\n",
       "      <th>Headline</th>\n",
       "      <th>Stance</th>\n",
       "    </tr>\n",
       "  </thead>\n",
       "  <tbody>\n",
       "    <tr>\n",
       "      <th>0</th>\n",
       "      <td>0</td>\n",
       "      <td>A small meteorite crashed into a wooded area i...</td>\n",
       "      <td>Soldier shot, Parliament locked down after gun...</td>\n",
       "      <td>unrelated</td>\n",
       "    </tr>\n",
       "    <tr>\n",
       "      <th>1</th>\n",
       "      <td>0</td>\n",
       "      <td>A small meteorite crashed into a wooded area i...</td>\n",
       "      <td>Tourist dubbed ‘Spider Man’ after spider burro...</td>\n",
       "      <td>unrelated</td>\n",
       "    </tr>\n",
       "    <tr>\n",
       "      <th>2</th>\n",
       "      <td>0</td>\n",
       "      <td>A small meteorite crashed into a wooded area i...</td>\n",
       "      <td>Luke Somers 'killed in failed rescue attempt i...</td>\n",
       "      <td>unrelated</td>\n",
       "    </tr>\n",
       "    <tr>\n",
       "      <th>3</th>\n",
       "      <td>0</td>\n",
       "      <td>A small meteorite crashed into a wooded area i...</td>\n",
       "      <td>BREAKING: Soldier shot at War Memorial in Ottawa</td>\n",
       "      <td>unrelated</td>\n",
       "    </tr>\n",
       "    <tr>\n",
       "      <th>4</th>\n",
       "      <td>0</td>\n",
       "      <td>A small meteorite crashed into a wooded area i...</td>\n",
       "      <td>Giant 8ft 9in catfish weighing 19 stone caught...</td>\n",
       "      <td>unrelated</td>\n",
       "    </tr>\n",
       "    <tr>\n",
       "      <th>...</th>\n",
       "      <td>...</td>\n",
       "      <td>...</td>\n",
       "      <td>...</td>\n",
       "      <td>...</td>\n",
       "    </tr>\n",
       "    <tr>\n",
       "      <th>495</th>\n",
       "      <td>23</td>\n",
       "      <td>In a sprawling Facebook post and subsequent in...</td>\n",
       "      <td>Staff Reporter</td>\n",
       "      <td>unrelated</td>\n",
       "    </tr>\n",
       "    <tr>\n",
       "      <th>496</th>\n",
       "      <td>23</td>\n",
       "      <td>In a sprawling Facebook post and subsequent in...</td>\n",
       "      <td>Crank-Boosting Behind Top Apps in App Store</td>\n",
       "      <td>unrelated</td>\n",
       "    </tr>\n",
       "    <tr>\n",
       "      <th>497</th>\n",
       "      <td>23</td>\n",
       "      <td>In a sprawling Facebook post and subsequent in...</td>\n",
       "      <td>China App Store Manipulation Photo Goes Viral ...</td>\n",
       "      <td>unrelated</td>\n",
       "    </tr>\n",
       "    <tr>\n",
       "      <th>498</th>\n",
       "      <td>23</td>\n",
       "      <td>In a sprawling Facebook post and subsequent in...</td>\n",
       "      <td>Chugging eggnog sends Utah man to hospital</td>\n",
       "      <td>unrelated</td>\n",
       "    </tr>\n",
       "    <tr>\n",
       "      <th>499</th>\n",
       "      <td>24</td>\n",
       "      <td>Macaulay Culkin is not dead. The actor is just...</td>\n",
       "      <td>Macaulay Culkin Dead: Actor Once Again Victim ...</td>\n",
       "      <td>agree</td>\n",
       "    </tr>\n",
       "  </tbody>\n",
       "</table>\n",
       "<p>500 rows × 4 columns</p>\n",
       "</div>"
      ],
      "text/plain": [
       "     Body ID  ...     Stance\n",
       "0          0  ...  unrelated\n",
       "1          0  ...  unrelated\n",
       "2          0  ...  unrelated\n",
       "3          0  ...  unrelated\n",
       "4          0  ...  unrelated\n",
       "..       ...  ...        ...\n",
       "495       23  ...  unrelated\n",
       "496       23  ...  unrelated\n",
       "497       23  ...  unrelated\n",
       "498       23  ...  unrelated\n",
       "499       24  ...      agree\n",
       "\n",
       "[500 rows x 4 columns]"
      ]
     },
     "execution_count": 7,
     "metadata": {
      "tags": []
     },
     "output_type": "execute_result"
    }
   ],
   "source": [
    "# Merge datasets using inner join on common field \"Body ID\" \n",
    "dataset = pd.merge(left=train_bodies, right=train_stances, left_on='Body ID', right_on='Body ID')\n",
    "dataset.head(500)"
   ]
  },
  {
   "cell_type": "markdown",
   "metadata": {
    "colab_type": "text",
    "id": "tjzVz2ifijmj"
   },
   "source": [
    "## Step2: Data Pre-processing and setting some hyper parameters needed for model\n",
    "\n",
    "\n",
    "#### Run the code given below to set the required parameters.\n",
    "\n",
    "1. `MAX_SENTS` = Maximum no.of sentences to consider in an article.\n",
    "\n",
    "2. `MAX_SENT_LENGTH` = Maximum no.of words to consider in a sentence.\n",
    "\n",
    "3. `MAX_NB_WORDS` = Maximum no.of words in the total vocabualry.\n",
    "\n",
    "4. `MAX_SENTS_HEADING` = Maximum no.of sentences to consider in a heading of an article."
   ]
  },
  {
   "cell_type": "code",
   "execution_count": 0,
   "metadata": {
    "colab": {},
    "colab_type": "code",
    "id": "KDXSdpvqjuqw"
   },
   "outputs": [],
   "source": [
    "MAX_NB_WORDS = 20000\n",
    "MAX_SENTS = 20\n",
    "MAX_SENTS_HEADING = 1\n",
    "MAX_SENT_LENGTH = 20\n",
    "VALIDATION_SPLIT = 0.2"
   ]
  },
  {
   "cell_type": "markdown",
   "metadata": {
    "colab_type": "text",
    "id": "Gqwm_GbwwnhX"
   },
   "source": [
    "### Tokenizing the text "
   ]
  },
  {
   "cell_type": "markdown",
   "metadata": {
    "colab_type": "text",
    "id": "WfZLR24mm32k"
   },
   "source": [
    "Keras provides [Tokenizer API](https://keras.io/preprocessing/text/) for preparing text. Read it before going any further."
   ]
  },
  {
   "cell_type": "markdown",
   "metadata": {
    "colab_type": "text",
    "id": "fLSn9S-5oG4Z"
   },
   "source": [
    "#### Import the Tokenizer from keras preprocessing text"
   ]
  },
  {
   "cell_type": "markdown",
   "metadata": {
    "colab_type": "text",
    "id": "eml0Lge4oOuh"
   },
   "source": [
    "#### Initialize the Tokenizer class with maximum vocabulary count as `MAX_NB_WORDS` initialized at the start of step2. "
   ]
  },
  {
   "cell_type": "code",
   "execution_count": 0,
   "metadata": {
    "colab": {},
    "colab_type": "code",
    "id": "Qm85qirPofc2"
   },
   "outputs": [],
   "source": [
    "t = Tokenizer(num_words=MAX_NB_WORDS)"
   ]
  },
  {
   "cell_type": "markdown",
   "metadata": {
    "colab_type": "text",
    "id": "HBe1KuXDosJ7"
   },
   "source": [
    "#### Now, using fit_on_texts() from Tokenizer class, lets encode the data \n",
    "\n",
    "Note: We need to fit articleBody and Headline also to cover all the words."
   ]
  },
  {
   "cell_type": "code",
   "execution_count": 0,
   "metadata": {
    "colab": {},
    "colab_type": "code",
    "id": "eTxStaIfYuIv"
   },
   "outputs": [],
   "source": [
    "t.fit_on_texts(dataset['articleBody'])\n",
    "t.fit_on_texts(dataset['Headline'])"
   ]
  },
  {
   "cell_type": "code",
   "execution_count": 11,
   "metadata": {
    "colab": {
     "base_uri": "https://localhost:8080/",
     "height": 34
    },
    "colab_type": "code",
    "id": "euko752Ov8-O",
    "outputId": "e9a4f2ef-03b0-433c-bd59-19f292665ead"
   },
   "outputs": [
    {
     "data": {
      "text/plain": [
       "27873"
      ]
     },
     "execution_count": 11,
     "metadata": {
      "tags": []
     },
     "output_type": "execute_result"
    }
   ],
   "source": [
    "# Get vocabulary size for future use \n",
    "vocab_size = len(t.word_index.items())\n",
    "vocab_size"
   ]
  },
  {
   "cell_type": "code",
   "execution_count": 12,
   "metadata": {
    "colab": {
     "base_uri": "https://localhost:8080/",
     "height": 34
    },
    "colab_type": "code",
    "id": "CFQCrbeOZsKl",
    "outputId": "022f8532-1c6c-484d-a77b-dafe916717b3"
   },
   "outputs": [
    {
     "name": "stdout",
     "output_type": "stream",
     "text": [
      "954\n"
     ]
    }
   ],
   "source": [
    "# Check sample word index \n",
    "print(t.word_index['perhaps'])"
   ]
  },
  {
   "cell_type": "markdown",
   "metadata": {
    "colab_type": "text",
    "id": "omptHX-JpBsN"
   },
   "source": [
    "#### fit_on_texts() gives the following attributes in the output as given [here](https://faroit.github.io/keras-docs/1.2.2/preprocessing/text/).\n",
    "\n",
    "* **word_counts:** dictionary mapping words (str) to the number of times they appeared on during fit. Only set after fit_on_texts was called.\n",
    "\n",
    "* **word_docs:** dictionary mapping words (str) to the number of documents/texts they appeared on during fit. Only set after fit_on_texts was called.\n",
    "\n",
    "* **word_index:** dictionary mapping words (str) to their rank/index (int). Only set after fit_on_texts was called.\n",
    "\n",
    "* **document_count:** int. Number of documents (texts/sequences) the tokenizer was trained on. Only set after fit_on_texts or fit_on_sequences was called.\n",
    "\n"
   ]
  },
  {
   "cell_type": "markdown",
   "metadata": {
    "colab_type": "text",
    "id": "SHnsT2sTtFAA"
   },
   "source": [
    "### Now, tokenize the sentences using nltk sent_tokenize() and encode the senteces with the ids we got form the above `t.word_index`\n",
    "\n",
    "Initialise 2 lists with names `texts` and `articles`.\n",
    "\n",
    "```\n",
    "texts = [] to store text of article as it is.\n",
    "\n",
    "articles = [] split the above text into a list of sentences.\n",
    "```"
   ]
  },
  {
   "cell_type": "code",
   "execution_count": 13,
   "metadata": {
    "colab": {
     "base_uri": "https://localhost:8080/",
     "height": 54
    },
    "colab_type": "code",
    "id": "qVi2IGPMbIzG",
    "outputId": "3493cf0f-3035-4c08-978c-b837e7bc61c2"
   },
   "outputs": [
    {
     "data": {
      "text/plain": [
       "'A small meteorite crashed into a wooded area in Nicaragua\\'s capital of Managua overnight, the government said Sunday. Residents reported hearing a mysterious boom that left a 16-foot deep crater near the city\\'s airport, the Associated Press reports. \\n\\nGovernment spokeswoman Rosario Murillo said a committee formed by the government to study the event determined it was a \"relatively small\" meteorite that \"appears to have come off an asteroid that was passing close to Earth.\" House-sized asteroid 2014 RC, which measured 60 feet in diameter, skimmed the Earth this weekend, ABC News reports. \\nMurillo said Nicaragua will ask international experts to help local scientists in understanding what happened.\\n\\nThe crater left by the meteorite had a radius of 39 feet and a depth of 16 feet,  said Humberto Saballos, a volcanologist with the Nicaraguan Institute of Territorial Studies who was on the committee. He said it is still not clear if the meteorite disintegrated or was buried.\\n\\nHumberto Garcia, of the Astronomy Center at the National Autonomous University of Nicaragua, said the meteorite could be related to an asteroid that was forecast to pass by the planet Saturday night.\\n\\n\"We have to study it more because it could be ice or rock,\" he said.\\n\\nWilfried Strauch, an adviser to the Institute of Territorial Studies, said it was \"very strange that no one reported a streak of light. We have to ask if anyone has a photo or something.\"\\n\\nLocal residents reported hearing a loud boom Saturday night, but said they didn\\'t see anything strange in the sky.\\n\\n\"I was sitting on my porch and I saw nothing, then all of a sudden I heard a large blast. We thought it was a bomb because we felt an expansive wave,\" Jorge Santamaria told The Associated Press.\\n\\nThe site of the crater is near Managua\\'s international airport and an air force base. Only journalists from state media were allowed to visit it.'"
      ]
     },
     "execution_count": 13,
     "metadata": {
      "tags": []
     },
     "output_type": "execute_result"
    }
   ],
   "source": [
    "# Populate texts\n",
    "texts = dataset['articleBody']\n",
    "texts[0]"
   ]
  },
  {
   "cell_type": "code",
   "execution_count": 0,
   "metadata": {
    "colab": {},
    "colab_type": "code",
    "id": "tZlGo9knjx7P"
   },
   "outputs": [],
   "source": [
    "# Initialize articles list\n",
    "articles = ['' for i in range(len(texts))]\n",
    "\n",
    "# initialize 2d list for article sentences, which will be required to limit to 20 words per sentence\n",
    "rows = len(texts)\n",
    "cols = MAX_SENTS\n",
    "articles_sent = [ ([''] * cols) for row in range(rows) ] # initialize 2d list"
   ]
  },
  {
   "cell_type": "code",
   "execution_count": 0,
   "metadata": {
    "colab": {},
    "colab_type": "code",
    "id": "8-LDjj1YcTJ0"
   },
   "outputs": [],
   "source": [
    "# Populate sentences \n",
    "for i in range(len(texts)):\n",
    "  articles[i] = sent_tokenize(texts[i])\n",
    "  j=0\n",
    "  for sentence in articles[i]:\n",
    "    articles_sent[i][j] = sentence\n",
    "    j = j+1\n",
    "    if j == 20: break\n"
   ]
  },
  {
   "cell_type": "code",
   "execution_count": 16,
   "metadata": {
    "colab": {
     "base_uri": "https://localhost:8080/",
     "height": 34
    },
    "colab_type": "code",
    "id": "-x_WgGX-V8wV",
    "outputId": "78582bc2-7343-4b9d-bbc4-66efe35f0be4"
   },
   "outputs": [
    {
     "data": {
      "text/plain": [
       "'The realtors said they wanted to do something special for someone in the service industry.'"
      ]
     },
     "execution_count": 16,
     "metadata": {
      "tags": []
     },
     "output_type": "execute_result"
    }
   ],
   "source": [
    "# Check sample sentence, to see if it has been loaded properly till the end \n",
    "articles_sent[49971][4]"
   ]
  },
  {
   "cell_type": "code",
   "execution_count": 17,
   "metadata": {
    "colab": {
     "base_uri": "https://localhost:8080/",
     "height": 318
    },
    "colab_type": "code",
    "id": "4gHM_SE9bT3d",
    "outputId": "ad65709a-df0d-4f94-abc8-895e574197b6"
   },
   "outputs": [
    {
     "data": {
      "text/plain": [
       "[\"A small meteorite crashed into a wooded area in Nicaragua's capital of Managua overnight, the government said Sunday.\",\n",
       " \"Residents reported hearing a mysterious boom that left a 16-foot deep crater near the city's airport, the Associated Press reports.\",\n",
       " 'Government spokeswoman Rosario Murillo said a committee formed by the government to study the event determined it was a \"relatively small\" meteorite that \"appears to have come off an asteroid that was passing close to Earth.\"',\n",
       " 'House-sized asteroid 2014 RC, which measured 60 feet in diameter, skimmed the Earth this weekend, ABC News reports.',\n",
       " 'Murillo said Nicaragua will ask international experts to help local scientists in understanding what happened.',\n",
       " 'The crater left by the meteorite had a radius of 39 feet and a depth of 16 feet,  said Humberto Saballos, a volcanologist with the Nicaraguan Institute of Territorial Studies who was on the committee.',\n",
       " 'He said it is still not clear if the meteorite disintegrated or was buried.',\n",
       " 'Humberto Garcia, of the Astronomy Center at the National Autonomous University of Nicaragua, said the meteorite could be related to an asteroid that was forecast to pass by the planet Saturday night.',\n",
       " '\"We have to study it more because it could be ice or rock,\" he said.',\n",
       " 'Wilfried Strauch, an adviser to the Institute of Territorial Studies, said it was \"very strange that no one reported a streak of light.',\n",
       " 'We have to ask if anyone has a photo or something.\"',\n",
       " \"Local residents reported hearing a loud boom Saturday night, but said they didn't see anything strange in the sky.\",\n",
       " '\"I was sitting on my porch and I saw nothing, then all of a sudden I heard a large blast.',\n",
       " 'We thought it was a bomb because we felt an expansive wave,\" Jorge Santamaria told The Associated Press.',\n",
       " \"The site of the crater is near Managua's international airport and an air force base.\",\n",
       " 'Only journalists from state media were allowed to visit it.']"
      ]
     },
     "execution_count": 17,
     "metadata": {
      "tags": []
     },
     "output_type": "execute_result"
    }
   ],
   "source": [
    "articles[0]"
   ]
  },
  {
   "cell_type": "code",
   "execution_count": 0,
   "metadata": {
    "colab": {},
    "colab_type": "code",
    "id": "OYbqZ4V8OMYI"
   },
   "outputs": [],
   "source": []
  },
  {
   "cell_type": "markdown",
   "metadata": {
    "colab_type": "text",
    "id": "fpuRIA7cCfcY"
   },
   "source": [
    "### Now iterate through each article and each sentence to encode the words into ids using t.word_index \n",
    "\n",
    "Here, to get words from sentence you can use `text_to_word_sequence` from keras preprocessing text.\n",
    "\n",
    "1. Import text_to_word_sequence\n",
    "\n",
    "2. Initialize a variable of shape (no.of articles, MAX_SENTS, MAX_SENT_LENGTH) with name `data` with zeros first (you can use numpy [np.zeros](https://docs.scipy.org/doc/numpy/reference/generated/numpy.zeros.html) to initialize with all zeros)and then update it while iterating through the words and sentences in each article."
   ]
  },
  {
   "cell_type": "code",
   "execution_count": 18,
   "metadata": {
    "colab": {
     "base_uri": "https://localhost:8080/",
     "height": 34
    },
    "colab_type": "code",
    "id": "_y49QjYfh-1n",
    "outputId": "1eb6aaca-b0e3-4240-897c-964baf8eeb03"
   },
   "outputs": [
    {
     "data": {
      "text/plain": [
       "(49972, 20, 20)"
      ]
     },
     "execution_count": 18,
     "metadata": {
      "tags": []
     },
     "output_type": "execute_result"
    }
   ],
   "source": [
    "# Initialize data \n",
    "data = np.zeros((len(articles), MAX_SENTS, MAX_SENT_LENGTH), dtype=int)\n",
    "data.shape"
   ]
  },
  {
   "cell_type": "code",
   "execution_count": 0,
   "metadata": {
    "colab": {},
    "colab_type": "code",
    "id": "wgx9uFVth--d"
   },
   "outputs": [],
   "source": [
    "# Populate 3d array - iterating through the words in each sentence, and sentences in each article.\n",
    "i=0\n",
    "j=0\n",
    "k=0\n",
    "\n",
    "for i in range(len(articles)):\n",
    "  for j in range(len(articles_sent[i])):\n",
    "    result = text_to_word_sequence(''.join(articles_sent[i][j]))\n",
    "    if j==19: break\n",
    "    for k in range(len(result)):\n",
    "        data[i][j][k] = t.word_index[result[k]]\n",
    "        if k==19: break\n"
   ]
  },
  {
   "cell_type": "code",
   "execution_count": 20,
   "metadata": {
    "colab": {
     "base_uri": "https://localhost:8080/",
     "height": 1000
    },
    "colab_type": "code",
    "id": "ZqarRxyCiSyt",
    "outputId": "d20dc52b-4308-45fc-9788-f7bc0cabcd23"
   },
   "outputs": [
    {
     "data": {
      "text/plain": [
       "array([[    3,   481,   427,  7211,    81,     3,  3733,   331,     5,\n",
       "         3891,   350,     4,  1431,  2958,     1,    89,    12,   464,\n",
       "            0,     0],\n",
       "       [  758,    95,  1047,     3,  2679,  1752,     7,   189,     3,\n",
       "         1217,  1075,  2030,   700,   159,     1,  3032,   448,     1,\n",
       "          555,   235],\n",
       "       [   89,  1067,  4115,  2349,    12,     3,  1092,  3306,    19,\n",
       "            1,    89,     2,  1793,     1,   521,  2009,    15,     9,\n",
       "            3,  3111],\n",
       "       [  181,  3640,   972,   200,  2556,    44,  6775,  1722,  1252,\n",
       "            5, 13317, 17936,     1,   778,    31,   740,  3990,    67,\n",
       "           85,     0],\n",
       "       [ 2349,    12,  1557,    38,  1094,   351,   775,     2,   367,\n",
       "          260,  1770,     5,  4450,    70,   494,     0,     0,     0,\n",
       "            0,     0],\n",
       "       [    1,   700,   189,    19,     1,   427,    32,     3,  7417,\n",
       "            4,  2159,  1252,     6,     3,  5270,     4,  1217,  1252,\n",
       "           12,  3363],\n",
       "       [   13,    12,    15,     8,   149,    25,   543,    64,     1,\n",
       "          427,  3727,    41,     9,  1850,     0,     0,     0,     0,\n",
       "            0,     0],\n",
       "       [ 3363,  5733,     4,     1,  5875,   614,    21,     1,   311,\n",
       "         3438,   794,     4,  1557,    12,     1,   427,    69,    23,\n",
       "          787,     2],\n",
       "       [   37,    17,     2,  1793,    15,    52,   120,    15,    69,\n",
       "           23,  4921,    41,  1963,    13,    12,     0,     0,     0,\n",
       "            0,     0],\n",
       "       [ 4736,  3338,    24,  3969,     2,     1,  1316,     4,  3072,\n",
       "         1653,    12,    15,     9,   195,  1420,     7,    58,    40,\n",
       "           95,     3],\n",
       "       [   37,    17,     2,  1094,    64,   510,    20,     3,   250,\n",
       "           41,   264,     0,     0,     0,     0,     0,     0,     0,\n",
       "            0,     0],\n",
       "       [  260,   758,    95,  1047,     3,  1806,  1752,   531,   276,\n",
       "           29,    12,    33,   703,   163,   892,  1420,     5,     1,\n",
       "         2081,     0],\n",
       "       [   35,     9,  2057,    10,   116,  5825,     6,    35,   576,\n",
       "          656,   104,    59,     4,     3,  2410,    35,   241,     3,\n",
       "          512,  1911],\n",
       "       [   37,   341,    15,     9,     3,  2082,   120,    37,   881,\n",
       "           24,  4451,  2584,  4315,  4922,    55,     1,   555,   235,\n",
       "            0,     0],\n",
       "       [    1,   255,     4,     1,   700,     8,   159,  3961,   351,\n",
       "          448,     6,    24,   155,   465,  1929,     0,     0,     0,\n",
       "            0,     0],\n",
       "       [  126,   921,    22,    47,   100,    36,  1833,     2,  1212,\n",
       "           15,     0,     0,     0,     0,     0,     0,     0,     0,\n",
       "            0,     0],\n",
       "       [    0,     0,     0,     0,     0,     0,     0,     0,     0,\n",
       "            0,     0,     0,     0,     0,     0,     0,     0,     0,\n",
       "            0,     0],\n",
       "       [    0,     0,     0,     0,     0,     0,     0,     0,     0,\n",
       "            0,     0,     0,     0,     0,     0,     0,     0,     0,\n",
       "            0,     0],\n",
       "       [    0,     0,     0,     0,     0,     0,     0,     0,     0,\n",
       "            0,     0,     0,     0,     0,     0,     0,     0,     0,\n",
       "            0,     0],\n",
       "       [    0,     0,     0,     0,     0,     0,     0,     0,     0,\n",
       "            0,     0,     0,     0,     0,     0,     0,     0,     0,\n",
       "            0,     0]])"
      ]
     },
     "execution_count": 20,
     "metadata": {
      "tags": []
     },
     "output_type": "execute_result"
    }
   ],
   "source": [
    "data[0, :, :]"
   ]
  },
  {
   "cell_type": "markdown",
   "metadata": {
    "colab_type": "text",
    "id": "hTG6JySHehkT"
   },
   "source": [
    "### Repeat the same process for the `Headings` as well. Use variables with names `texts_heading` and `articles_heading` accordingly"
   ]
  },
  {
   "cell_type": "code",
   "execution_count": 21,
   "metadata": {
    "colab": {
     "base_uri": "https://localhost:8080/",
     "height": 34
    },
    "colab_type": "code",
    "id": "_CliiIhLemJV",
    "outputId": "232f4b1a-09f6-46ad-f96e-437785f733c1"
   },
   "outputs": [
    {
     "data": {
      "text/plain": [
       "'Soldier shot, Parliament locked down after gunfire erupts at war memorial'"
      ]
     },
     "execution_count": 21,
     "metadata": {
      "tags": []
     },
     "output_type": "execute_result"
    }
   ],
   "source": [
    "# Populate text heading\n",
    "texts_heading = dataset['Headline']\n",
    "texts_heading[0]"
   ]
  },
  {
   "cell_type": "code",
   "execution_count": 0,
   "metadata": {
    "colab": {},
    "colab_type": "code",
    "id": "7e6zsj47tasZ"
   },
   "outputs": [],
   "source": [
    "# Initialize heading array \n",
    "articles_heading = ['' for i in range(len(texts_heading))]\n",
    "\n",
    "# initialize 2d list for heading sentences\n",
    "rows = len(texts)\n",
    "cols = MAX_SENTS_HEADING\n",
    "articles_heading_sent = [ ([''] * cols) for row in range(rows) ] # initialize 2d list"
   ]
  },
  {
   "cell_type": "code",
   "execution_count": 0,
   "metadata": {
    "colab": {},
    "colab_type": "code",
    "id": "xvsR71GXtbAv"
   },
   "outputs": [],
   "source": [
    "# Separate heading sentences \n",
    "for i in range(len(texts_heading)):\n",
    "  articles_heading[i] = sent_tokenize(texts_heading[i])\n",
    "  j=0  \n",
    "  for sentence in articles_heading[i]:\n",
    "    articles_heading_sent[i][j] = sentence"
   ]
  },
  {
   "cell_type": "code",
   "execution_count": 24,
   "metadata": {
    "colab": {
     "base_uri": "https://localhost:8080/",
     "height": 34
    },
    "colab_type": "code",
    "id": "S57NOz0JtbG2",
    "outputId": "2b1cf033-a247-481b-cd73-242c35143980"
   },
   "outputs": [
    {
     "data": {
      "text/plain": [
       "'Ann Arbor pizza delivery driver surprised with $2,000 tip'"
      ]
     },
     "execution_count": 24,
     "metadata": {
      "tags": []
     },
     "output_type": "execute_result"
    }
   ],
   "source": [
    "# Check if heading sentence populated correctly \n",
    "articles_heading_sent[49971][0]"
   ]
  },
  {
   "cell_type": "code",
   "execution_count": 25,
   "metadata": {
    "colab": {
     "base_uri": "https://localhost:8080/",
     "height": 34
    },
    "colab_type": "code",
    "id": "Wh8LkERftbJ0",
    "outputId": "287ee5ef-a229-447d-d81b-6c03923c8e14"
   },
   "outputs": [
    {
     "data": {
      "text/plain": [
       "(49972, 1, 20)"
      ]
     },
     "execution_count": 25,
     "metadata": {
      "tags": []
     },
     "output_type": "execute_result"
    }
   ],
   "source": [
    "# Initialize data heading \n",
    "data_heading = np.zeros((len(articles_heading), MAX_SENTS_HEADING, MAX_SENT_LENGTH), dtype=int)\n",
    "data_heading.shape"
   ]
  },
  {
   "cell_type": "code",
   "execution_count": 0,
   "metadata": {
    "colab": {},
    "colab_type": "code",
    "id": "hlD5fHG8tbNL"
   },
   "outputs": [],
   "source": [
    "# Populate 3d array - iterating through the words in each sentence, and sentences in each heading.\n",
    "i=0\n",
    "j=0\n",
    "k=0\n",
    "for i in range(len(articles_heading)):\n",
    "  for j in range(len(articles_heading_sent[i])):\n",
    "    result = text_to_word_sequence(''.join(articles_heading_sent[i][j]))\n",
    "    for k in range(len(result)):\n",
    "      data_heading[i][j][k] = t.word_index[result[k]]\n",
    "      if k==19: break"
   ]
  },
  {
   "cell_type": "code",
   "execution_count": 27,
   "metadata": {
    "colab": {
     "base_uri": "https://localhost:8080/",
     "height": 70
    },
    "colab_type": "code",
    "id": "TWeYU1BztbQM",
    "outputId": "87c1d415-23b7-4c81-cf1e-fb36701a4277"
   },
   "outputs": [
    {
     "data": {
      "text/plain": [
       "array([[  718,   206,   343,  7134,   193,    34,  1338, 11554,    21,\n",
       "          233,   686,     0,     0,     0,     0,     0,     0,     0,\n",
       "            0,     0]])"
      ]
     },
     "execution_count": 27,
     "metadata": {
      "tags": []
     },
     "output_type": "execute_result"
    }
   ],
   "source": [
    "data_heading[0, :, :]"
   ]
  },
  {
   "cell_type": "markdown",
   "metadata": {
    "colab_type": "text",
    "id": "iaH0Ey1qe_Co"
   },
   "source": [
    "### Now the features are ready, lets make the labels ready for the model to process.\n",
    "\n",
    "### Convert labels into one-hot vectors\n",
    "\n",
    "You can use [get_dummies](https://pandas.pydata.org/pandas-docs/stable/generated/pandas.get_dummies.html) in pandas to create one-hot vectors."
   ]
  },
  {
   "cell_type": "code",
   "execution_count": 28,
   "metadata": {
    "colab": {
     "base_uri": "https://localhost:8080/",
     "height": 34
    },
    "colab_type": "code",
    "id": "Zq-VcgM8fat1",
    "outputId": "f46033fe-6938-4efc-ec0a-2f6767a523d1"
   },
   "outputs": [
    {
     "data": {
      "text/plain": [
       "'agree'"
      ]
     },
     "execution_count": 28,
     "metadata": {
      "tags": []
     },
     "output_type": "execute_result"
    }
   ],
   "source": [
    "# Load stance data from main dataset \n",
    "stance = dataset['Stance']\n",
    "stance[499]"
   ]
  },
  {
   "cell_type": "code",
   "execution_count": 0,
   "metadata": {
    "colab": {},
    "colab_type": "code",
    "id": "9uWa5-yswydN"
   },
   "outputs": [],
   "source": [
    "# Populate labels as array \n",
    "labels = np.asarray(pd.get_dummies(stance))"
   ]
  },
  {
   "cell_type": "code",
   "execution_count": 30,
   "metadata": {
    "colab": {
     "base_uri": "https://localhost:8080/",
     "height": 70
    },
    "colab_type": "code",
    "id": "spQ7_CIAu5pu",
    "outputId": "a46b9f8f-aa3a-4d88-aeda-2b5dd45fcd03"
   },
   "outputs": [
    {
     "name": "stdout",
     "output_type": "stream",
     "text": [
      "Shape of data tensor: (49972, 20, 20)\n",
      "Shape of data heading tensor: (49972, 1, 20)\n",
      "Shape of label tensor: (49972, 4)\n"
     ]
    }
   ],
   "source": [
    "# Check shapes of data, data heading and labels arrays \n",
    "print('Shape of data tensor:', data.shape)\n",
    "print('Shape of data heading tensor:', data_heading.shape)\n",
    "print('Shape of label tensor:', labels.shape)"
   ]
  },
  {
   "cell_type": "code",
   "execution_count": 31,
   "metadata": {
    "colab": {
     "base_uri": "https://localhost:8080/",
     "height": 34
    },
    "colab_type": "code",
    "id": "4wcfKJM1x2g3",
    "outputId": "7533480f-4e80-412b-b5c8-9b1cac287b5c"
   },
   "outputs": [
    {
     "name": "stdout",
     "output_type": "stream",
     "text": [
      "[1 0 0 0]\n"
     ]
    }
   ],
   "source": [
    "# Check one sample one-hot encoded label \n",
    "print(labels[499][:])"
   ]
  },
  {
   "cell_type": "markdown",
   "metadata": {
    "colab_type": "text",
    "id": "sDOxHdR3frDu"
   },
   "source": [
    "### Shuffle the data"
   ]
  },
  {
   "cell_type": "code",
   "execution_count": 0,
   "metadata": {
    "colab": {},
    "colab_type": "code",
    "id": "-Ra-yYTvfzRt"
   },
   "outputs": [],
   "source": [
    "## get numbers upto no.of articles\n",
    "indices = np.arange(data.shape[0])\n",
    "## shuffle the numbers\n",
    "np.random.shuffle(indices)"
   ]
  },
  {
   "cell_type": "code",
   "execution_count": 0,
   "metadata": {
    "colab": {},
    "colab_type": "code",
    "id": "LKnSqwIFf3Iy"
   },
   "outputs": [],
   "source": [
    "## shuffle the data\n",
    "data = data[indices]\n",
    "data_heading = data_heading[indices]\n",
    "## shuffle the labels according to data\n",
    "labels = labels[indices]"
   ]
  },
  {
   "cell_type": "markdown",
   "metadata": {
    "colab_type": "text",
    "id": "JcOFVfPBf9kA"
   },
   "source": [
    "### Split into train and validation sets. Split the train set 80:20 ratio to get the train and validation sets.\n",
    "\n",
    "\n",
    "Use the variable names as given below:\n",
    "\n",
    "x_train, x_val - for body of articles.\n",
    "\n",
    "x-heading_train, x_heading_val - for heading of articles.\n",
    "\n",
    "y_train - for training labels.\n",
    "\n",
    "y_val - for validation labels.\n",
    "\n"
   ]
  },
  {
   "cell_type": "code",
   "execution_count": 0,
   "metadata": {
    "colab": {},
    "colab_type": "code",
    "id": "zui-YQpCz8jj"
   },
   "outputs": [],
   "source": [
    "# Split in train and test for articles as well as headings data, using same random state \n",
    "x_train, x_val, y_train, y_val = train_test_split(data, labels, test_size=0.2, random_state=21)\n",
    "x_heading_train, x_heading_val, y_train, y_val  = train_test_split(data_heading, labels, test_size=0.2, random_state=21)"
   ]
  },
  {
   "cell_type": "code",
   "execution_count": 35,
   "metadata": {
    "colab": {
     "base_uri": "https://localhost:8080/",
     "height": 122
    },
    "colab_type": "code",
    "id": "o5u3PTz3gEV-",
    "outputId": "224e658e-a9eb-4870-f7b8-888269f8a953"
   },
   "outputs": [
    {
     "name": "stdout",
     "output_type": "stream",
     "text": [
      "(39977, 20, 20)\n",
      "(39977, 1, 20)\n",
      "(39977, 4)\n",
      "(9995, 20, 20)\n",
      "(9995, 1, 20)\n",
      "(9995, 4)\n"
     ]
    }
   ],
   "source": [
    "# Check shapes of all train and test arrays \n",
    "print(x_train.shape)\n",
    "print(x_heading_train.shape)\n",
    "print(y_train.shape)\n",
    "\n",
    "print(x_val.shape)\n",
    "print(x_heading_val.shape)\n",
    "print(y_val.shape)"
   ]
  },
  {
   "cell_type": "markdown",
   "metadata": {
    "colab_type": "text",
    "id": "yNnoBtArhJ1E"
   },
   "source": [
    "###  Load the pre-trained Glove word embeddings for each token and Create embedding matrix with the glove embeddings\n"
   ]
  },
  {
   "cell_type": "code",
   "execution_count": 36,
   "metadata": {
    "colab": {
     "base_uri": "https://localhost:8080/",
     "height": 34
    },
    "colab_type": "code",
    "id": "eKqn2IL2ZF8v",
    "outputId": "036e03f4-601a-4e5e-f460-9f45ca44aaef"
   },
   "outputs": [
    {
     "name": "stdout",
     "output_type": "stream",
     "text": [
      "Loaded 400000 word vectors.\n"
     ]
    }
   ],
   "source": [
    "# Load the whole embedding into memory\n",
    "\n",
    "embeddings_index = dict()\n",
    "f = open('./glove.6B.100d.txt')\n",
    "for line in f:\n",
    "\tvalues = line.split()\n",
    "\tword = values[0]\n",
    "\tcoefs = np.asarray(values[1:], dtype='float32')\n",
    "\tembeddings_index[word] = coefs\n",
    "f.close()\n",
    "print('Loaded %s word vectors.' % len(embeddings_index))\n",
    "\n",
    "# Create a weight matrix for words in training docs\n",
    "\n",
    "embedding_matrix = np.zeros((vocab_size, 100))\n",
    "\n",
    "for word, i in t.word_index.items():\n",
    "\tembedding_vector = embeddings_index.get(word)\n",
    "\tif embedding_vector is not None:\n",
    "\t\tembedding_matrix[i] = embedding_vector"
   ]
  },
  {
   "cell_type": "code",
   "execution_count": 37,
   "metadata": {
    "colab": {
     "base_uri": "https://localhost:8080/",
     "height": 34
    },
    "colab_type": "code",
    "id": "G-TzHaTqcpF4",
    "outputId": "3a95aa4f-d3fc-46dd-e9ee-a1ed3c3f9572"
   },
   "outputs": [
    {
     "data": {
      "text/plain": [
       "27873"
      ]
     },
     "execution_count": 37,
     "metadata": {
      "tags": []
     },
     "output_type": "execute_result"
    }
   ],
   "source": [
    "# Check length of embedding matrix, should be equal to vocabulary size \n",
    "len(embedding_matrix)"
   ]
  },
  {
   "cell_type": "markdown",
   "metadata": {
    "colab_type": "text",
    "id": "LRi4o3ZspDFU"
   },
   "source": [
    "### Sequence to Sequence Encoder-Decoder model approach and report accuracy score"
   ]
  },
  {
   "cell_type": "markdown",
   "metadata": {
    "colab_type": "text",
    "id": "zSZDnPWkw2ZZ"
   },
   "source": [
    "### Reshape train datasets for compatibility with the Models"
   ]
  },
  {
   "cell_type": "code",
   "execution_count": 0,
   "metadata": {
    "colab": {},
    "colab_type": "code",
    "id": "GkLv13Nrt4Di"
   },
   "outputs": [],
   "source": [
    "x_train_resh = x_train.reshape(39977, 400)\n",
    "x_val_resh = x_val.reshape(9995, 400)"
   ]
  },
  {
   "cell_type": "code",
   "execution_count": 0,
   "metadata": {
    "colab": {},
    "colab_type": "code",
    "id": "9q_sU8eMyNC2"
   },
   "outputs": [],
   "source": [
    "x_heading_train_resh = x_heading_train.reshape(39977, 20)\n",
    "x_heading_val_resh = x_heading_val.reshape(9995, 20)"
   ]
  },
  {
   "cell_type": "code",
   "execution_count": 40,
   "metadata": {
    "colab": {
     "base_uri": "https://localhost:8080/",
     "height": 122
    },
    "colab_type": "code",
    "id": "klZ72Z3pNI7M",
    "outputId": "3c203568-0b75-45c4-c04b-20345864408d"
   },
   "outputs": [
    {
     "name": "stdout",
     "output_type": "stream",
     "text": [
      "(39977, 400)\n",
      "(39977, 20)\n",
      "(39977, 4)\n",
      "(9995, 400)\n",
      "(9995, 20)\n",
      "(9995, 4)\n"
     ]
    }
   ],
   "source": [
    "# Check shapes after resizing \n",
    "print(x_train_resh.shape)\n",
    "print(x_heading_train_resh.shape)\n",
    "print(y_train.shape)\n",
    "\n",
    "print(x_val_resh.shape)\n",
    "print(x_heading_val_resh.shape)\n",
    "print(y_val.shape)"
   ]
  },
  {
   "cell_type": "markdown",
   "metadata": {
    "colab_type": "text",
    "id": "gpkVhIbx3gr1"
   },
   "source": [
    "### Define Sequence to Sequence Encoder Decoder LSTM Model"
   ]
  },
  {
   "cell_type": "code",
   "execution_count": 41,
   "metadata": {
    "colab": {
     "base_uri": "https://localhost:8080/",
     "height": 1000
    },
    "colab_type": "code",
    "id": "KlEIv1qFGCPw",
    "outputId": "1be34abf-5b24-4689-b438-04682abb7cec"
   },
   "outputs": [
    {
     "name": "stdout",
     "output_type": "stream",
     "text": [
      "WARNING:tensorflow:From /usr/local/lib/python3.6/dist-packages/keras/backend/tensorflow_backend.py:66: The name tf.get_default_graph is deprecated. Please use tf.compat.v1.get_default_graph instead.\n",
      "\n",
      "WARNING:tensorflow:From /usr/local/lib/python3.6/dist-packages/keras/backend/tensorflow_backend.py:541: The name tf.placeholder is deprecated. Please use tf.compat.v1.placeholder instead.\n",
      "\n",
      "WARNING:tensorflow:From /usr/local/lib/python3.6/dist-packages/keras/backend/tensorflow_backend.py:4432: The name tf.random_uniform is deprecated. Please use tf.random.uniform instead.\n",
      "\n",
      "WARNING:tensorflow:From /usr/local/lib/python3.6/dist-packages/keras/backend/tensorflow_backend.py:190: The name tf.get_default_session is deprecated. Please use tf.compat.v1.get_default_session instead.\n",
      "\n",
      "WARNING:tensorflow:From /usr/local/lib/python3.6/dist-packages/keras/backend/tensorflow_backend.py:197: The name tf.ConfigProto is deprecated. Please use tf.compat.v1.ConfigProto instead.\n",
      "\n",
      "WARNING:tensorflow:From /usr/local/lib/python3.6/dist-packages/keras/backend/tensorflow_backend.py:203: The name tf.Session is deprecated. Please use tf.compat.v1.Session instead.\n",
      "\n",
      "WARNING:tensorflow:From /usr/local/lib/python3.6/dist-packages/keras/backend/tensorflow_backend.py:207: The name tf.global_variables is deprecated. Please use tf.compat.v1.global_variables instead.\n",
      "\n",
      "WARNING:tensorflow:From /usr/local/lib/python3.6/dist-packages/keras/backend/tensorflow_backend.py:216: The name tf.is_variable_initialized is deprecated. Please use tf.compat.v1.is_variable_initialized instead.\n",
      "\n",
      "WARNING:tensorflow:From /usr/local/lib/python3.6/dist-packages/keras/backend/tensorflow_backend.py:223: The name tf.variables_initializer is deprecated. Please use tf.compat.v1.variables_initializer instead.\n",
      "\n",
      "Model: \"model_1\"\n",
      "__________________________________________________________________________________________________\n",
      "Layer (type)                    Output Shape         Param #     Connected to                     \n",
      "==================================================================================================\n",
      "input_1 (InputLayer)            (None, 400)          0                                            \n",
      "__________________________________________________________________________________________________\n",
      "input_2 (InputLayer)            (None, 20)           0                                            \n",
      "__________________________________________________________________________________________________\n",
      "embedding_1 (Embedding)         (None, 400, 100)     2787300     input_1[0][0]                    \n",
      "__________________________________________________________________________________________________\n",
      "embedding_2 (Embedding)         (None, 20, 100)      2787300     input_2[0][0]                    \n",
      "__________________________________________________________________________________________________\n",
      "lstm_1 (LSTM)                   [(None, 512), (None, 1255424     embedding_1[0][0]                \n",
      "__________________________________________________________________________________________________\n",
      "lstm_2 (LSTM)                   (None, 512)          1255424     embedding_2[0][0]                \n",
      "                                                                 lstm_1[0][1]                     \n",
      "                                                                 lstm_1[0][2]                     \n",
      "__________________________________________________________________________________________________\n",
      "dense_1 (Dense)                 (None, 100)          51300       lstm_2[0][0]                     \n",
      "__________________________________________________________________________________________________\n",
      "dense_2 (Dense)                 (None, 4)            404         dense_1[0][0]                    \n",
      "==================================================================================================\n",
      "Total params: 8,137,152\n",
      "Trainable params: 2,562,552\n",
      "Non-trainable params: 5,574,600\n",
      "__________________________________________________________________________________________________\n"
     ]
    },
    {
     "data": {
      "image/png": "[encoded data removed]",
      "text/plain": [
       "<IPython.core.display.Image object>"
      ]
     },
     "execution_count": 41,
     "metadata": {
      "tags": []
     },
     "output_type": "execute_result"
    }
   ],
   "source": [
    "# Define an input sequence and process it.\n",
    "encoder_inputs = Input(shape=(400,))\n",
    "x = Embedding(vocab_size, 100, weights=[embedding_matrix], \n",
    "              trainable=False)(encoder_inputs)\n",
    "x, state_h, state_c = LSTM(units=512,\n",
    "                           return_state=True)(x)\n",
    "encoder_states = [state_h, state_c]\n",
    "\n",
    "# Set up the decoder, using `encoder_states` as initial state.\n",
    "decoder_inputs = Input(shape=(20,))\n",
    "x = Embedding(vocab_size, 100, weights=[embedding_matrix], \n",
    "              trainable=False)(decoder_inputs)\n",
    "x = LSTM(units=512, return_sequences=False)(x, initial_state=encoder_states)\n",
    "x = Dense(100, input_shape=(512,), activation='relu')(x)\n",
    "decoder_outputs = Dense(4, activation='softmax')(x)\n",
    "\n",
    "# Define the model that will turn\n",
    "# `encoder_input_data` & `decoder_input_data` into `decoder_target_data`\n",
    "model = Model([encoder_inputs, decoder_inputs], decoder_outputs)\n",
    "\n",
    "# plot the model\n",
    "model.summary()\n",
    "plot_model(model, to_file='model.png', show_shapes=True)\n"
   ]
  },
  {
   "cell_type": "markdown",
   "metadata": {
    "colab_type": "text",
    "id": "C5Xrd-JQ3id7"
   },
   "source": [
    "### Compile and fit the model"
   ]
  },
  {
   "cell_type": "code",
   "execution_count": 42,
   "metadata": {
    "colab": {
     "base_uri": "https://localhost:8080/",
     "height": 107
    },
    "colab_type": "code",
    "id": "MlduHU2CovxC",
    "outputId": "8599700e-f3a5-4ae0-d90f-c270c0e94d35"
   },
   "outputs": [
    {
     "name": "stdout",
     "output_type": "stream",
     "text": [
      "WARNING:tensorflow:From /usr/local/lib/python3.6/dist-packages/keras/optimizers.py:793: The name tf.train.Optimizer is deprecated. Please use tf.compat.v1.train.Optimizer instead.\n",
      "\n",
      "WARNING:tensorflow:From /usr/local/lib/python3.6/dist-packages/keras/backend/tensorflow_backend.py:3576: The name tf.log is deprecated. Please use tf.math.log instead.\n",
      "\n"
     ]
    }
   ],
   "source": [
    "# Compile the model \n",
    "model.compile(optimizer='rmsprop', loss='categorical_crossentropy', metrics=['accuracy'])"
   ]
  },
  {
   "cell_type": "code",
   "execution_count": 44,
   "metadata": {
    "colab": {
     "base_uri": "https://localhost:8080/",
     "height": 1000
    },
    "colab_type": "code",
    "id": "CM3yCmjQoCM3",
    "outputId": "d3c7cbc2-964a-4a57-991e-09d0f8aadfcf"
   },
   "outputs": [
    {
     "name": "stdout",
     "output_type": "stream",
     "text": [
      "WARNING:tensorflow:From /usr/local/lib/python3.6/dist-packages/tensorflow_core/python/ops/math_grad.py:1424: where (from tensorflow.python.ops.array_ops) is deprecated and will be removed in a future version.\n",
      "Instructions for updating:\n",
      "Use tf.where in 2.0, which has the same broadcast rule as np.where\n",
      "WARNING:tensorflow:From /usr/local/lib/python3.6/dist-packages/keras/backend/tensorflow_backend.py:1033: The name tf.assign_add is deprecated. Please use tf.compat.v1.assign_add instead.\n",
      "\n",
      "WARNING:tensorflow:From /usr/local/lib/python3.6/dist-packages/keras/backend/tensorflow_backend.py:1020: The name tf.assign is deprecated. Please use tf.compat.v1.assign instead.\n",
      "\n",
      "Train on 39977 samples, validate on 9995 samples\n",
      "Epoch 1/40\n",
      "39977/39977 [==============================] - 376s 9ms/step - loss: 0.8007 - acc: 0.7279 - val_loss: 0.8001 - val_acc: 0.7354\n",
      "Epoch 2/40\n",
      "39977/39977 [==============================] - 357s 9ms/step - loss: 0.7672 - acc: 0.7305 - val_loss: 0.7568 - val_acc: 0.7369\n",
      "Epoch 3/40\n",
      "39977/39977 [==============================] - 354s 9ms/step - loss: 0.7239 - acc: 0.7329 - val_loss: 0.6550 - val_acc: 0.7491\n",
      "Epoch 4/40\n",
      "39977/39977 [==============================] - 353s 9ms/step - loss: 0.6955 - acc: 0.7394 - val_loss: 0.7551 - val_acc: 0.7354\n",
      "Epoch 5/40\n",
      "39977/39977 [==============================] - 351s 9ms/step - loss: 0.6808 - acc: 0.7361 - val_loss: 0.7481 - val_acc: 0.7354\n",
      "Epoch 6/40\n",
      "39977/39977 [==============================] - 352s 9ms/step - loss: 0.6539 - acc: 0.7427 - val_loss: 0.5644 - val_acc: 0.7651\n",
      "Epoch 7/40\n",
      "39977/39977 [==============================] - 352s 9ms/step - loss: 0.5206 - acc: 0.7722 - val_loss: 0.5209 - val_acc: 0.7911\n",
      "Epoch 8/40\n",
      "39977/39977 [==============================] - 354s 9ms/step - loss: 0.4382 - acc: 0.8070 - val_loss: 0.4309 - val_acc: 0.8063\n",
      "Epoch 9/40\n",
      "39977/39977 [==============================] - 351s 9ms/step - loss: 0.3759 - acc: 0.8379 - val_loss: 0.3676 - val_acc: 0.8452\n",
      "Epoch 10/40\n",
      "39977/39977 [==============================] - 351s 9ms/step - loss: 0.3154 - acc: 0.8650 - val_loss: 0.3381 - val_acc: 0.8609\n",
      "Epoch 11/40\n",
      "39977/39977 [==============================] - 348s 9ms/step - loss: 0.2699 - acc: 0.8870 - val_loss: 0.3054 - val_acc: 0.8773\n",
      "Epoch 12/40\n",
      "39977/39977 [==============================] - 348s 9ms/step - loss: 0.2326 - acc: 0.9037 - val_loss: 0.2837 - val_acc: 0.8934\n",
      "Epoch 13/40\n",
      "39977/39977 [==============================] - 349s 9ms/step - loss: 0.2009 - acc: 0.9176 - val_loss: 0.2667 - val_acc: 0.8951\n",
      "Epoch 14/40\n",
      "39977/39977 [==============================] - 347s 9ms/step - loss: 0.1757 - acc: 0.9300 - val_loss: 0.2478 - val_acc: 0.9128\n",
      "Epoch 15/40\n",
      "39977/39977 [==============================] - 348s 9ms/step - loss: 0.1566 - acc: 0.9389 - val_loss: 0.2422 - val_acc: 0.9152\n",
      "Epoch 16/40\n",
      "39977/39977 [==============================] - 349s 9ms/step - loss: 0.1342 - acc: 0.9489 - val_loss: 0.2237 - val_acc: 0.9298\n",
      "Epoch 17/40\n",
      "39977/39977 [==============================] - 348s 9ms/step - loss: 0.1203 - acc: 0.9547 - val_loss: 0.2354 - val_acc: 0.9243\n",
      "Epoch 18/40\n",
      "39977/39977 [==============================] - 348s 9ms/step - loss: 0.1080 - acc: 0.9583 - val_loss: 0.2199 - val_acc: 0.9278\n",
      "Epoch 19/40\n",
      "39977/39977 [==============================] - 348s 9ms/step - loss: 0.0980 - acc: 0.9636 - val_loss: 0.2250 - val_acc: 0.9354\n",
      "Epoch 20/40\n",
      "39977/39977 [==============================] - 348s 9ms/step - loss: 0.0908 - acc: 0.9675 - val_loss: 0.2523 - val_acc: 0.9379\n",
      "Epoch 21/40\n",
      "39977/39977 [==============================] - 348s 9ms/step - loss: 0.0849 - acc: 0.9712 - val_loss: 0.2036 - val_acc: 0.9463\n",
      "Epoch 22/40\n",
      "39977/39977 [==============================] - 348s 9ms/step - loss: 0.0704 - acc: 0.9740 - val_loss: 0.1998 - val_acc: 0.9466\n",
      "Epoch 23/40\n",
      "39977/39977 [==============================] - 348s 9ms/step - loss: 0.0672 - acc: 0.9764 - val_loss: 0.1917 - val_acc: 0.9486\n",
      "Epoch 24/40\n",
      "39977/39977 [==============================] - 348s 9ms/step - loss: 0.0641 - acc: 0.9784 - val_loss: 0.2466 - val_acc: 0.9427\n",
      "Epoch 25/40\n",
      "39977/39977 [==============================] - 347s 9ms/step - loss: 0.0623 - acc: 0.9795 - val_loss: 0.2058 - val_acc: 0.9507\n",
      "Epoch 26/40\n",
      "39977/39977 [==============================] - 348s 9ms/step - loss: 0.0563 - acc: 0.9814 - val_loss: 0.2353 - val_acc: 0.9482\n",
      "Epoch 27/40\n",
      "39977/39977 [==============================] - 356s 9ms/step - loss: 0.0553 - acc: 0.9825 - val_loss: 0.2019 - val_acc: 0.9521\n",
      "Epoch 28/40\n",
      "39977/39977 [==============================] - 353s 9ms/step - loss: 0.0496 - acc: 0.9845 - val_loss: 0.2142 - val_acc: 0.9537\n",
      "Epoch 29/40\n",
      "39977/39977 [==============================] - 351s 9ms/step - loss: 0.0489 - acc: 0.9851 - val_loss: 0.1984 - val_acc: 0.9563\n",
      "Epoch 30/40\n",
      "39977/39977 [==============================] - 351s 9ms/step - loss: 0.0459 - acc: 0.9859 - val_loss: 0.2061 - val_acc: 0.9559\n",
      "Epoch 31/40\n",
      "39977/39977 [==============================] - 351s 9ms/step - loss: 0.0418 - acc: 0.9873 - val_loss: 0.2135 - val_acc: 0.9537\n",
      "Epoch 32/40\n",
      "39977/39977 [==============================] - 351s 9ms/step - loss: 0.0434 - acc: 0.9883 - val_loss: 0.2018 - val_acc: 0.9578\n",
      "Epoch 33/40\n",
      "39977/39977 [==============================] - 350s 9ms/step - loss: 0.0399 - acc: 0.9893 - val_loss: 0.2455 - val_acc: 0.9566\n",
      "Epoch 34/40\n",
      "39977/39977 [==============================] - 357s 9ms/step - loss: 0.0423 - acc: 0.9889 - val_loss: 0.1857 - val_acc: 0.9545\n",
      "Epoch 35/40\n",
      "39977/39977 [==============================] - 359s 9ms/step - loss: 0.0366 - acc: 0.9900 - val_loss: 0.2792 - val_acc: 0.9573\n",
      "Epoch 36/40\n",
      "39977/39977 [==============================] - 359s 9ms/step - loss: 0.0389 - acc: 0.9899 - val_loss: 0.2055 - val_acc: 0.9615\n",
      "Epoch 37/40\n",
      "39977/39977 [==============================] - 359s 9ms/step - loss: 0.0358 - acc: 0.9906 - val_loss: 0.2174 - val_acc: 0.9611\n",
      "Epoch 38/40\n",
      "39977/39977 [==============================] - 357s 9ms/step - loss: 0.0379 - acc: 0.9909 - val_loss: 0.2422 - val_acc: 0.9598\n",
      "Epoch 39/40\n",
      "39977/39977 [==============================] - 353s 9ms/step - loss: 0.0363 - acc: 0.9906 - val_loss: 0.2419 - val_acc: 0.9612\n",
      "Epoch 40/40\n",
      "39977/39977 [==============================] - 352s 9ms/step - loss: 0.0301 - acc: 0.9919 - val_loss: 0.2715 - val_acc: 0.9606\n",
      "CPU times: user 5h 26min 39s, sys: 19min 47s, total: 5h 46min 27s\n",
      "Wall time: 3h 54min 38s\n"
     ]
    },
    {
     "data": {
      "text/plain": [
       "<keras.callbacks.History at 0x7fd10a243828>"
      ]
     },
     "execution_count": 44,
     "metadata": {
      "tags": []
     },
     "output_type": "execute_result"
    }
   ],
   "source": [
    "# Train the Seq to Seq Encoder Decoder LSTM model and check accuracy on validation set \n",
    "%%time\n",
    "model.fit(x=[x_train_resh, x_heading_train_resh],\n",
    "          y=y_train,\n",
    "          batch_size=64,\n",
    "          epochs=40,\n",
    "          validation_data=([x_val_resh, x_heading_val_resh],y_val))"
   ]
  },
  {
   "cell_type": "code",
   "execution_count": 45,
   "metadata": {
    "colab": {
     "base_uri": "https://localhost:8080/",
     "height": 34
    },
    "colab_type": "code",
    "id": "CtUgoSz_jdcG",
    "outputId": "5612dc9f-df2a-4fa5-99f9-ee6eb86ae55c"
   },
   "outputs": [
    {
     "name": "stdout",
     "output_type": "stream",
     "text": [
      "9995/9995 [==============================] - 63s 6ms/step\n"
     ]
    }
   ],
   "source": [
    "# Generate predicted output \n",
    "yhat = model.predict([x_val_resh, x_heading_val_resh], verbose=1)\n"
   ]
  },
  {
   "cell_type": "code",
   "execution_count": 53,
   "metadata": {
    "colab": {
     "base_uri": "https://localhost:8080/",
     "height": 545
    },
    "colab_type": "code",
    "id": "3yR2WfXDjqLr",
    "outputId": "ae01350d-239c-44bf-efc2-74c01296df89"
   },
   "outputs": [
    {
     "name": "stdout",
     "output_type": "stream",
     "text": [
      "Index 1249\n",
      "Predicted: [0.0000000e+00 0.0000000e+00 1.3386184e-29 1.0000000e+00]\n",
      "Actual: [0 0 0 1]\n",
      "Index 2238\n",
      "Predicted: [3.0957772e-38 0.0000000e+00 9.0108394e-24 1.0000000e+00]\n",
      "Actual: [0 0 0 1]\n",
      "Index 8175\n",
      "Predicted: [0.0000000e+00 0.0000000e+00 2.1377309e-33 1.0000000e+00]\n",
      "Actual: [0 0 0 1]\n",
      "Index 5694\n",
      "Predicted: [7.5171415e-06 7.3199773e-17 8.0914710e-08 9.9999237e-01]\n",
      "Actual: [0 0 0 1]\n",
      "Index 5183\n",
      "Predicted: [8.4148563e-27 1.1244908e-34 2.1080897e-20 1.0000000e+00]\n",
      "Actual: [0 0 0 1]\n",
      "Index 1192\n",
      "Predicted: [9.9999380e-01 1.3140769e-06 1.8136924e-06 3.0572123e-06]\n",
      "Actual: [1 0 0 0]\n",
      "Index 965\n",
      "Predicted: [2.4695628e-06 1.1091984e-17 9.5094812e-01 4.9049374e-02]\n",
      "Actual: [0 0 1 0]\n",
      "Index 8279\n",
      "Predicted: [4.9688029e-32 0.0000000e+00 1.1532414e-18 1.0000000e+00]\n",
      "Actual: [0 0 0 1]\n",
      "Index 7968\n",
      "Predicted: [9.9999952e-01 3.3151457e-14 2.1934017e-07 2.1477058e-07]\n",
      "Actual: [1 0 0 0]\n",
      "Index 6950\n",
      "Predicted: [9.9997008e-01 3.0676545e-11 9.8474147e-06 2.0089548e-05]\n",
      "Actual: [1 0 0 0]\n"
     ]
    }
   ],
   "source": [
    "# Check predictions with actual validation data for 10 random samples \n",
    "for i in range(10):\n",
    "  a = (random.randint(1,9995))\n",
    "  print(\"Index\",a) \n",
    "  print(\"Predicted:\",yhat[a][:])\n",
    "  print(\"Actual:\",y_val[a][:])\n"
   ]
  },
  {
   "cell_type": "markdown",
   "metadata": {
    "colab_type": "text",
    "id": "R47A6Ysfev3l"
   },
   "source": [
    "## Build the same model with attention layers included for better performance (Optional)"
   ]
  },
  {
   "cell_type": "code",
   "execution_count": 54,
   "metadata": {
    "colab": {
     "base_uri": "https://localhost:8080/",
     "height": 1000
    },
    "colab_type": "code",
    "id": "ZQ3TWuiAe1Uu",
    "outputId": "f03b83d1-f200-4190-e65f-09ddafe6e8e4"
   },
   "outputs": [
    {
     "name": "stdout",
     "output_type": "stream",
     "text": [
      "Model: \"model_2\"\n",
      "__________________________________________________________________________________________________\n",
      "Layer (type)                    Output Shape         Param #     Connected to                     \n",
      "==================================================================================================\n",
      "input_3 (InputLayer)            (None, 400)          0                                            \n",
      "__________________________________________________________________________________________________\n",
      "input_4 (InputLayer)            (None, 20)           0                                            \n",
      "__________________________________________________________________________________________________\n",
      "embedding_3 (Embedding)         (None, 400, 100)     2787300     input_3[0][0]                    \n",
      "__________________________________________________________________________________________________\n",
      "embedding_4 (Embedding)         (None, 20, 100)      2787300     input_4[0][0]                    \n",
      "__________________________________________________________________________________________________\n",
      "lstm_3 (LSTM)                   [(None, 400, 512), ( 1255424     embedding_3[0][0]                \n",
      "__________________________________________________________________________________________________\n",
      "lstm_4 (LSTM)                   (None, 20, 512)      1255424     embedding_4[0][0]                \n",
      "                                                                 lstm_3[0][1]                     \n",
      "                                                                 lstm_3[0][2]                     \n",
      "__________________________________________________________________________________________________\n",
      "time_distributed_1 (TimeDistrib (None, 400, 1)       513         lstm_3[0][0]                     \n",
      "__________________________________________________________________________________________________\n",
      "dense_4 (Dense)                 (None, 20, 20)       10260       lstm_4[0][0]                     \n",
      "__________________________________________________________________________________________________\n",
      "reshape_1 (Reshape)             (None, 400)          0           time_distributed_1[0][0]         \n",
      "__________________________________________________________________________________________________\n",
      "reshape_2 (Reshape)             (None, 400)          0           dense_4[0][0]                    \n",
      "__________________________________________________________________________________________________\n",
      "attention_vec (Activation)      (None, 400)          0           reshape_1[0][0]                  \n",
      "__________________________________________________________________________________________________\n",
      "dot_1 (Dot)                     (None, 1)            0           reshape_2[0][0]                  \n",
      "                                                                 attention_vec[0][0]              \n",
      "__________________________________________________________________________________________________\n",
      "dense_5 (Dense)                 (None, 100)          200         dot_1[0][0]                      \n",
      "__________________________________________________________________________________________________\n",
      "dense_6 (Dense)                 (None, 4)            404         dense_5[0][0]                    \n",
      "==================================================================================================\n",
      "Total params: 8,096,825\n",
      "Trainable params: 2,522,225\n",
      "Non-trainable params: 5,574,600\n",
      "__________________________________________________________________________________________________\n"
     ]
    },
    {
     "data": {
      "image/png": "[encoded data removed]",
      "text/plain": [
       "<IPython.core.display.Image object>"
      ]
     },
     "execution_count": 54,
     "metadata": {
      "tags": []
     },
     "output_type": "execute_result"
    }
   ],
   "source": [
    "# Define an input sequence and process it.\n",
    "encoder_inputs = Input(shape=(400,))\n",
    "enc = Embedding(vocab_size, 100, weights=[embedding_matrix], \n",
    "              trainable=False)(encoder_inputs)\n",
    "enc, state_h, state_c = LSTM(units=512, return_sequences=True,\n",
    "                           return_state=True)(enc)\n",
    "encoder_states = [state_h, state_c]\n",
    "\n",
    "# Defining Attention vectors \n",
    "att_vector = TimeDistributed(Dense(1,input_shape=(512,)))(enc)\n",
    "att_vector_res = Reshape([400])(att_vector)\n",
    "att_vector_res = Activation('softmax', name='attention_vec')(att_vector_res)\n",
    "\n",
    "# Set up the decoder, using `encoder_states` as initial state.\n",
    "decoder_inputs = Input(shape=(20,))\n",
    "dec = Embedding(vocab_size, 100, weights=[embedding_matrix], \n",
    "              trainable=False)(decoder_inputs)\n",
    "dec = LSTM(units=512, return_sequences=True)(dec, initial_state=encoder_states)\n",
    "dec = Dense(20)(dec)\n",
    "dec_res = Reshape([400])(dec)\n",
    "\n",
    "# Merging through dot product \n",
    "att_output = Dot(axes=1)([dec_res, att_vector_res])\n",
    "\n",
    "dec_res = Dense(100, input_shape=(1,), activation='relu')(att_output)\n",
    "decoder_outputs = Dense(4, activation='softmax')(dec_res)\n",
    "\n",
    "# Define the model that will turn\n",
    "# `encoder_input_data` & `decoder_input_data` into `decoder_target_data`\n",
    "model_att = Model([encoder_inputs, decoder_inputs], decoder_outputs)\n",
    "\n",
    "# plot the model\n",
    "model_att.summary()\n",
    "plot_model(model_att, to_file='model_att.png', show_shapes=True)"
   ]
  },
  {
   "cell_type": "code",
   "execution_count": 0,
   "metadata": {
    "colab": {},
    "colab_type": "code",
    "id": "wivJ-eVkfEOm"
   },
   "outputs": [],
   "source": [
    "# Compile the model \n",
    "model_att.compile(optimizer='rmsprop', loss='categorical_crossentropy', metrics=['accuracy'])"
   ]
  },
  {
   "cell_type": "markdown",
   "metadata": {
    "colab_type": "text",
    "id": "olqo5ytRe7eq"
   },
   "source": [
    "## Fit the model and report the accuracy score for the model with attention layer (Optional)"
   ]
  },
  {
   "cell_type": "code",
   "execution_count": 56,
   "metadata": {
    "colab": {
     "base_uri": "https://localhost:8080/",
     "height": 1000
    },
    "colab_type": "code",
    "id": "1zgxPrhzfBkv",
    "outputId": "0b595356-bbb9-471f-f840-3889b4283256"
   },
   "outputs": [
    {
     "name": "stdout",
     "output_type": "stream",
     "text": [
      "Train on 39977 samples, validate on 9995 samples\n",
      "Epoch 1/40\n",
      "39977/39977 [==============================] - 379s 9ms/step - loss: 0.7836 - acc: 0.7302 - val_loss: 0.7370 - val_acc: 0.7461\n",
      "Epoch 2/40\n",
      "39977/39977 [==============================] - 374s 9ms/step - loss: 0.6983 - acc: 0.7591 - val_loss: 0.6595 - val_acc: 0.7727\n",
      "Epoch 3/40\n",
      "39977/39977 [==============================] - 373s 9ms/step - loss: 0.6343 - acc: 0.7819 - val_loss: 0.6247 - val_acc: 0.7843\n",
      "Epoch 4/40\n",
      "39977/39977 [==============================] - 373s 9ms/step - loss: 0.5755 - acc: 0.8000 - val_loss: 0.5868 - val_acc: 0.8016\n",
      "Epoch 5/40\n",
      "39977/39977 [==============================] - 372s 9ms/step - loss: 0.5192 - acc: 0.8140 - val_loss: 0.5244 - val_acc: 0.8125\n",
      "Epoch 6/40\n",
      "39977/39977 [==============================] - 373s 9ms/step - loss: 0.4758 - acc: 0.8286 - val_loss: 0.4943 - val_acc: 0.8235\n",
      "Epoch 7/40\n",
      "39977/39977 [==============================] - 375s 9ms/step - loss: 0.4350 - acc: 0.8386 - val_loss: 0.4635 - val_acc: 0.8343\n",
      "Epoch 8/40\n",
      "39977/39977 [==============================] - 378s 9ms/step - loss: 0.4040 - acc: 0.8472 - val_loss: 0.4423 - val_acc: 0.8349\n",
      "Epoch 9/40\n",
      "39977/39977 [==============================] - 375s 9ms/step - loss: 0.3746 - acc: 0.8542 - val_loss: 0.4312 - val_acc: 0.8423\n",
      "Epoch 10/40\n",
      "39977/39977 [==============================] - 373s 9ms/step - loss: 0.3446 - acc: 0.8643 - val_loss: 0.3978 - val_acc: 0.8551\n",
      "Epoch 11/40\n",
      "39977/39977 [==============================] - 372s 9ms/step - loss: 0.3228 - acc: 0.8744 - val_loss: 0.3967 - val_acc: 0.8547\n",
      "Epoch 12/40\n",
      "39977/39977 [==============================] - 373s 9ms/step - loss: 0.3002 - acc: 0.8841 - val_loss: 0.3721 - val_acc: 0.8690\n",
      "Epoch 13/40\n",
      "39977/39977 [==============================] - 373s 9ms/step - loss: 0.2792 - acc: 0.8937 - val_loss: 0.3721 - val_acc: 0.8689\n",
      "Epoch 14/40\n",
      "39977/39977 [==============================] - 374s 9ms/step - loss: 0.2604 - acc: 0.9017 - val_loss: 0.3717 - val_acc: 0.8702\n",
      "Epoch 15/40\n",
      "39977/39977 [==============================] - 372s 9ms/step - loss: 0.2407 - acc: 0.9110 - val_loss: 0.3507 - val_acc: 0.8745\n",
      "Epoch 16/40\n",
      "39977/39977 [==============================] - 371s 9ms/step - loss: 0.2343 - acc: 0.9185 - val_loss: 0.3374 - val_acc: 0.8850\n",
      "Epoch 17/40\n",
      "39977/39977 [==============================] - 371s 9ms/step - loss: 0.2147 - acc: 0.9228 - val_loss: 0.3164 - val_acc: 0.8910\n",
      "Epoch 18/40\n",
      "39977/39977 [==============================] - 370s 9ms/step - loss: 0.1973 - acc: 0.9301 - val_loss: 0.3280 - val_acc: 0.8919\n",
      "Epoch 19/40\n",
      "39977/39977 [==============================] - 382s 10ms/step - loss: 0.1876 - acc: 0.9357 - val_loss: 0.3181 - val_acc: 0.8973\n",
      "Epoch 20/40\n",
      "39977/39977 [==============================] - 389s 10ms/step - loss: 0.1775 - acc: 0.9397 - val_loss: 0.3207 - val_acc: 0.9001\n",
      "Epoch 21/40\n",
      "39977/39977 [==============================] - 398s 10ms/step - loss: 0.1676 - acc: 0.9433 - val_loss: 0.3274 - val_acc: 0.9005\n",
      "Epoch 22/40\n",
      "39977/39977 [==============================] - 404s 10ms/step - loss: 0.1647 - acc: 0.9449 - val_loss: 0.3144 - val_acc: 0.8993\n",
      "Epoch 23/40\n",
      "39977/39977 [==============================] - 407s 10ms/step - loss: 0.1542 - acc: 0.9484 - val_loss: 0.3273 - val_acc: 0.8999\n",
      "Epoch 24/40\n",
      "39977/39977 [==============================] - 394s 10ms/step - loss: 0.1528 - acc: 0.9503 - val_loss: 0.3535 - val_acc: 0.8940\n",
      "Epoch 25/40\n",
      "39977/39977 [==============================] - 383s 10ms/step - loss: 0.1482 - acc: 0.9521 - val_loss: 0.3258 - val_acc: 0.9041\n",
      "Epoch 26/40\n",
      "39977/39977 [==============================] - 383s 10ms/step - loss: 0.1428 - acc: 0.9536 - val_loss: 0.3171 - val_acc: 0.9061\n",
      "Epoch 27/40\n",
      "39977/39977 [==============================] - 386s 10ms/step - loss: 0.1360 - acc: 0.9556 - val_loss: 0.3381 - val_acc: 0.9016\n",
      "Epoch 28/40\n",
      "39977/39977 [==============================] - 385s 10ms/step - loss: 0.1355 - acc: 0.9560 - val_loss: 0.3058 - val_acc: 0.9076\n",
      "Epoch 29/40\n",
      "39977/39977 [==============================] - 384s 10ms/step - loss: 0.1249 - acc: 0.9590 - val_loss: 0.3095 - val_acc: 0.9095\n",
      "Epoch 30/40\n",
      "39977/39977 [==============================] - 384s 10ms/step - loss: 0.1247 - acc: 0.9595 - val_loss: 0.3043 - val_acc: 0.9123\n",
      "Epoch 31/40\n",
      "39977/39977 [==============================] - 383s 10ms/step - loss: 0.1224 - acc: 0.9611 - val_loss: 0.3243 - val_acc: 0.9120\n",
      "Epoch 32/40\n",
      "39977/39977 [==============================] - 384s 10ms/step - loss: 0.1217 - acc: 0.9607 - val_loss: 0.3200 - val_acc: 0.9079\n",
      "Epoch 33/40\n",
      "39977/39977 [==============================] - 382s 10ms/step - loss: 0.1180 - acc: 0.9620 - val_loss: 0.3068 - val_acc: 0.9131\n",
      "Epoch 34/40\n",
      "39977/39977 [==============================] - 387s 10ms/step - loss: 0.1135 - acc: 0.9631 - val_loss: 0.3262 - val_acc: 0.9101\n",
      "Epoch 35/40\n",
      "39977/39977 [==============================] - 384s 10ms/step - loss: 0.1129 - acc: 0.9621 - val_loss: 0.3080 - val_acc: 0.9162\n",
      "Epoch 36/40\n",
      "39977/39977 [==============================] - 385s 10ms/step - loss: 0.1083 - acc: 0.9626 - val_loss: 0.2990 - val_acc: 0.9166\n",
      "Epoch 37/40\n",
      "39977/39977 [==============================] - 385s 10ms/step - loss: 0.1045 - acc: 0.9636 - val_loss: 0.3465 - val_acc: 0.9130\n",
      "Epoch 38/40\n",
      "39977/39977 [==============================] - 385s 10ms/step - loss: 0.1014 - acc: 0.9654 - val_loss: 0.3346 - val_acc: 0.9169\n",
      "Epoch 39/40\n",
      "39977/39977 [==============================] - 385s 10ms/step - loss: 0.0967 - acc: 0.9682 - val_loss: 0.3258 - val_acc: 0.9137\n",
      "Epoch 40/40\n",
      "39977/39977 [==============================] - 384s 10ms/step - loss: 0.0961 - acc: 0.9686 - val_loss: 0.3522 - val_acc: 0.9113\n",
      "CPU times: user 5h 58min 57s, sys: 18min 32s, total: 6h 17min 30s\n",
      "Wall time: 4h 14min 8s\n"
     ]
    },
    {
     "data": {
      "text/plain": [
       "<keras.callbacks.History at 0x7fd05d045f98>"
      ]
     },
     "execution_count": 56,
     "metadata": {
      "tags": []
     },
     "output_type": "execute_result"
    }
   ],
   "source": [
    "# Train the Seq to Seq Encoder Decoder LSTM model with Attention layer and check accuracy on validation set \n",
    "%%time\n",
    "model_att.fit(x=[x_train_resh, x_heading_train_resh],\n",
    "          y=y_train,\n",
    "          batch_size=64,\n",
    "          epochs=40,\n",
    "          validation_data=([x_val_resh, x_heading_val_resh],y_val))"
   ]
  },
  {
   "cell_type": "code",
   "execution_count": 57,
   "metadata": {
    "colab": {
     "base_uri": "https://localhost:8080/",
     "height": 34
    },
    "colab_type": "code",
    "id": "z8507P94fDuX",
    "outputId": "d97f89f1-04ca-488e-be85-ae4196523b01"
   },
   "outputs": [
    {
     "name": "stdout",
     "output_type": "stream",
     "text": [
      "9995/9995 [==============================] - 67s 7ms/step\n"
     ]
    }
   ],
   "source": [
    "# Generate predicted output \n",
    "yhat_att = model_att.predict([x_val_resh, x_heading_val_resh], verbose=1)"
   ]
  },
  {
   "cell_type": "code",
   "execution_count": 59,
   "metadata": {
    "colab": {
     "base_uri": "https://localhost:8080/",
     "height": 545
    },
    "colab_type": "code",
    "id": "lT1Q0kSqIGJG",
    "outputId": "5e258ff0-8e4c-4f98-ea1a-da71c37d15ae"
   },
   "outputs": [
    {
     "name": "stdout",
     "output_type": "stream",
     "text": [
      "Index 596\n",
      "Predicted: [5.6911780e-17 0.0000000e+00 4.7281375e-08 1.0000000e+00]\n",
      "Actual: [0 0 0 1]\n",
      "Index 2686\n",
      "Predicted: [3.6118969e-10 3.6295660e-08 9.9993634e-01 6.3610321e-05]\n",
      "Actual: [0 0 1 0]\n",
      "Index 2266\n",
      "Predicted: [3.4049337e-04 3.7167855e-03 9.8506343e-01 1.0879284e-02]\n",
      "Actual: [1 0 0 0]\n",
      "Index 3567\n",
      "Predicted: [1.0897549e-11 3.3209590e-28 1.1486434e-05 9.9998856e-01]\n",
      "Actual: [0 0 0 1]\n",
      "Index 2253\n",
      "Predicted: [2.2768103e-02 7.0607193e-08 1.4158806e-01 8.3564383e-01]\n",
      "Actual: [0 0 0 1]\n",
      "Index 2392\n",
      "Predicted: [1.4469649e-01 5.0449557e-06 2.6020527e-01 5.9509319e-01]\n",
      "Actual: [0 0 0 1]\n",
      "Index 7669\n",
      "Predicted: [1.1359609e-16 0.0000000e+00 6.4602062e-08 9.9999988e-01]\n",
      "Actual: [0 0 0 1]\n",
      "Index 4805\n",
      "Predicted: [2.1507395e-15 2.5557835e-36 2.4381700e-07 9.9999976e-01]\n",
      "Actual: [0 0 0 1]\n",
      "Index 6456\n",
      "Predicted: [0.92320764 0.01652148 0.04468791 0.01558302]\n",
      "Actual: [1 0 0 0]\n",
      "Index 8006\n",
      "Predicted: [2.0161597e-08 4.7523913e-21 3.4326271e-04 9.9965680e-01]\n",
      "Actual: [0 0 0 1]\n"
     ]
    }
   ],
   "source": [
    "# Check predictions with actual validation data for 10 random samples \n",
    "for i in range(10):\n",
    "  a = (random.randint(1,9995))\n",
    "  print(\"Index\",a)\n",
    "  print(\"Predicted:\",yhat_att[a][:])\n",
    "  print(\"Actual:\",y_val[a][:])"
   ]
  },
  {
   "cell_type": "markdown",
   "metadata": {
    "colab_type": "text",
    "id": "hI1YBWZRlVsE"
   },
   "source": [
    "## Comparing Sequence to Sequence Encoder-Decoder LSTM model - with and without Attention layers"
   ]
  },
  {
   "cell_type": "markdown",
   "metadata": {
    "colab_type": "text",
    "id": "ozw9wKmFlljq"
   },
   "source": [
    "1. Without Attention: Reached Validation Accuracy of 96.06% after 40 epochs. \n",
    "2. With Attention: Reached Validation Accuracy of 91.13% after 40 epochs. \n",
    "3. Without Attention: Obtained lower Validation Accuracy in inital epochs - 80.63% after 8 epochs. \n",
    "4. With Attention: Obtained higher Validation Accuracy in inital epochs - 83.49% after 8 epochs.\n",
    "5. There is a scope to improve Attention layer model further. \n",
    "6. Overall accuracy can also be increased by using GLOVE embeddings of 200 or 300 dimensions and by increasing vocabulary size. "
   ]
  }
 ],
 "metadata": {
  "accelerator": "GPU",
  "colab": {
   "collapsed_sections": [],
   "name": "Stance_Detection_for_the_Fake_News_Challenge_V04.ipynb",
   "provenance": [],
   "toc_visible": true
  },
  "kernelspec": {
   "display_name": "Python 3",
   "language": "python",
   "name": "python3"
  },
  "language_info": {
   "codemirror_mode": {
    "name": "ipython",
    "version": 3
   },
   "file_extension": ".py",
   "mimetype": "text/x-python",
   "name": "python",
   "nbconvert_exporter": "python",
   "pygments_lexer": "ipython3",
   "version": "3.7.4"
  }
 },
 "nbformat": 4,
 "nbformat_minor": 1
}
